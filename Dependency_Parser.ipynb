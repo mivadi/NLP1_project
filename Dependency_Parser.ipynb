{
 "cells": [
  {
   "cell_type": "markdown",
   "metadata": {},
   "source": [
    "# Neural Graph-based Dependency Parsing\n",
    "\n",
    "In this python notebook the accuracy of different networks is tested. First we have to load the packages which are required."
   ]
  },
  {
   "cell_type": "code",
   "execution_count": 1,
   "metadata": {},
   "outputs": [],
   "source": [
    "from train import *\n",
    "from parser import *"
   ]
  },
  {
   "cell_type": "markdown",
   "metadata": {},
   "source": [
    "By running the following cell you will train a LSTM RNN network with an embedding layer and a MLP layer for the score matrix. The learning rate is lr and there are 30 epochs. The code in train.py uses only 1000 sentences of the training data."
   ]
  },
  {
   "cell_type": "code",
   "execution_count": null,
   "metadata": {
    "collapsed": true
   },
   "outputs": [],
   "source": [
    "lr = 10**-2\n",
    "epochs = 30\n",
    "path_in = 'data/nl-ud-train_extract.conllu'\n",
    "path_out = 'final_network_nl.pt'\n",
    "train(path_in, path_out, lr, epochs)\n",
    "\n",
    "lr = 10**-8\n",
    "epochs = 30\n",
    "path_in = 'data/en-ud-train_extract.conllu'\n",
    "path_out = 'final_network_en.pt'\n",
    "train(path_in, path_out, lr, epochs)"
   ]
  },
  {
   "cell_type": "markdown",
   "metadata": {
    "scrolled": false
   },
   "source": [
    "### Example Dutch\n",
    "\n",
    "This example shows how to run an accuracy test for the Dutch network."
   ]
  },
  {
   "cell_type": "code",
   "execution_count": 2,
   "metadata": {},
   "outputs": [
    {
     "name": "stderr",
     "output_type": "stream",
     "text": [
      "/Users/mmvandiepen/anaconda3/lib/python3.6/site-packages/torch/serialization.py:316: SourceChangeWarning: source code of class 'train.LSTM_RNN' has changed. you can retrieve the original source code by accessing the object's source attribute or set `torch.nn.Module.dump_patches = True` and use the patch tool to revert the changes.\n",
      "  warnings.warn(msg, SourceChangeWarning)\n"
     ]
    },
    {
     "name": "stdout",
     "output_type": "stream",
     "text": [
      "UAS score: 6.406685236768802\n",
      "LAS score: 0.9427898007285194\n"
     ]
    }
   ],
   "source": [
    "data_test_nl = 'data/nl-ud-test.conllu'\n",
    "network_nl = 'final_network_nl.pt'\n",
    "data_dict_nl = 'data/nl-ud-train_extract.conllu'\n",
    "\n",
    "per_UAS_nl, per_LAS_nl = test_accuracy(data_test_nl, network_nl, data_dict_nl)\n",
    "\n",
    "print(\"UAS score:\", per_UAS_nl)\n",
    "print(\"LAS score:\", per_LAS_nl)"
   ]
  },
  {
   "cell_type": "markdown",
   "metadata": {},
   "source": [
    "### Example English\n",
    "\n",
    "This example shows how to run an accuracy test for the English network."
   ]
  },
  {
   "cell_type": "code",
   "execution_count": 3,
   "metadata": {},
   "outputs": [
    {
     "name": "stderr",
     "output_type": "stream",
     "text": [
      "/Users/mmvandiepen/anaconda3/lib/python3.6/site-packages/torch/serialization.py:316: SourceChangeWarning: source code of class 'train.LSTM_RNN' has changed. you can retrieve the original source code by accessing the object's source attribute or set `torch.nn.Module.dump_patches = True` and use the patch tool to revert the changes.\n",
      "  warnings.warn(msg, SourceChangeWarning)\n"
     ]
    },
    {
     "name": "stdout",
     "output_type": "stream",
     "text": [
      "UAS score: 6.941580756013746\n",
      "LAS score: 0.09621993127147767\n"
     ]
    }
   ],
   "source": [
    "data_test_en = 'data/en-ud-test.conllu'\n",
    "network_en = 'final_network_en.pt'\n",
    "data_dict_en = 'data/en-ud-train_extract.conllu'\n",
    "\n",
    "per_UAS_en, per_LAS_en = test_accuracy(data_test_en, network_en, data_dict_en)\n",
    "\n",
    "print(\"UAS score:\", per_UAS_en)\n",
    "print(\"LAS score:\", per_LAS_en)"
   ]
  }
 ],
 "metadata": {
  "kernelspec": {
   "display_name": "Python 3",
   "language": "python",
   "name": "python3"
  },
  "language_info": {
   "codemirror_mode": {
    "name": "ipython",
    "version": 3
   },
   "file_extension": ".py",
   "mimetype": "text/x-python",
   "name": "python",
   "nbconvert_exporter": "python",
   "pygments_lexer": "ipython3",
   "version": "3.6.3"
  }
 },
 "nbformat": 4,
 "nbformat_minor": 2
}
